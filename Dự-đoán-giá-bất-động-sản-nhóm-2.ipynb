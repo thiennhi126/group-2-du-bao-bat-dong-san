{
 "cells": [
  {
   "cell_type": "code",
   "execution_count": 5,
   "id": "6a393539",
   "metadata": {},
   "outputs": [
    {
     "name": "stdout",
     "output_type": "stream",
     "text": [
      "Hiệu suất của mô hình Linear Regression:\n",
      "Mean Squared Error: 1581119650.3936496\n"
     ]
    }
   ],
   "source": [
    "import pandas as pd\n",
    "from sklearn.linear_model import LinearRegression\n",
    "from sklearn.metrics import mean_squared_error\n",
    "from sklearn.preprocessing import MinMaxScaler\n",
    "from sklearn.model_selection import train_test_split\n",
    "\n",
    "# Đọc dữ liệu huấn luyện từ file train.csv\n",
    "train_data = pd.read_csv('train.csv')\n",
    "\n",
    "# Xác định các đặc trưng (features) và nhãn (label)\n",
    "features = train_data[['OverallQual', 'GrLivArea', 'GarageCars', 'TotalBsmtSF', 'YearBuilt']].fillna(0)  # Xử lý missing values\n",
    "label = train_data['SalePrice']\n",
    "\n",
    "# Chia dữ liệu thành tập huấn luyện và tập validation\n",
    "X_train, X_val, y_train, y_val = train_test_split(features, label, test_size=0.2, random_state=42)\n",
    "\n",
    "# Chuẩn hóa dữ liệu\n",
    "scaler = MinMaxScaler()\n",
    "X_train_scaled = scaler.fit_transform(X_train)\n",
    "X_val_scaled = scaler.transform(X_val)\n",
    "\n",
    "# Tạo mô hình Linear Regression\n",
    "model = LinearRegression()\n",
    "\n",
    "# Huấn luyện mô hình Linear Regression\n",
    "model.fit(X_train_scaled, y_train)\n",
    "\n",
    "# Dự báo giá trên tập validation với mô hình Linear Regression\n",
    "y_pred = model.predict(X_val_scaled)\n",
    "\n",
    "# Tính toán Mean Squared Error\n",
    "mse = mean_squared_error(y_val, y_pred)\n",
    "\n",
    "# In kết quả\n",
    "print(\"Hiệu suất của mô hình Linear Regression:\")\n",
    "print(f\"Mean Squared Error: {mse}\")"
   ]
  },
  {
   "cell_type": "code",
   "execution_count": 6,
   "id": "32fc7fa1",
   "metadata": {},
   "outputs": [
    {
     "name": "stdout",
     "output_type": "stream",
     "text": [
      "Kết quả tốt nhất:\n",
      "RMSE nhỏ nhất: 39770.663911983975 (Alpha: 0.01)\n",
      "MAE nhỏ nhất: 25415.625340799194 (Alpha: 0.01)\n"
     ]
    }
   ],
   "source": [
    "import numpy as np\n",
    "from sklearn.metrics import mean_squared_error, mean_absolute_error\n",
    "\n",
    "# Danh sách các giá trị alpha để thử\n",
    "alpha_values = [0.01, 0.05, 0.1, 0.2]\n",
    "\n",
    "best_rmse = float('inf')  # Giá trị RMSE nhỏ nhất\n",
    "best_mae = float('inf')  # Giá trị MAE nhỏ nhất\n",
    "best_alpha_rmse = None  # Giá trị alpha tương ứng với RMSE nhỏ nhất\n",
    "best_alpha_mae = None  # Giá trị alpha tương ứng với MAE nhỏ nhất\n",
    "\n",
    "for alpha in alpha_values:\n",
    "    # Tạo mô hình Ridge với giá trị alpha hiện tại\n",
    "    model = Ridge(alpha=alpha)\n",
    "\n",
    "    # Huấn luyện mô hình Ridge\n",
    "    model.fit(X_train_scaled, y_train)\n",
    "\n",
    "    # Dự báo giá trên tập validation với mô hình Ridge\n",
    "    y_pred = model.predict(X_val_scaled)\n",
    "\n",
    "    # Tính toán RMSE và MAE\n",
    "    rmse = np.sqrt(mean_squared_error(y_val, y_pred))\n",
    "    mae = mean_absolute_error(y_val, y_pred)\n",
    "\n",
    "    # Kiểm tra xem RMSE và MAE có nhỏ hơn giá trị tốt nhất hiện tại không\n",
    "    if rmse < best_rmse:\n",
    "        best_rmse = rmse\n",
    "        best_alpha_rmse = alpha\n",
    "\n",
    "    if mae < best_mae:\n",
    "        best_mae = mae\n",
    "        best_alpha_mae = alpha\n",
    "\n",
    "# In kết quả tốt nhất\n",
    "print(\"Kết quả tốt nhất:\")\n",
    "print(f\"RMSE nhỏ nhất: {best_rmse} (Alpha: {best_alpha_rmse})\")\n",
    "print(f\"MAE nhỏ nhất: {best_mae} (Alpha: {best_alpha_mae})\")"
   ]
  },
  {
   "cell_type": "code",
   "execution_count": 7,
   "id": "1a216acb",
   "metadata": {},
   "outputs": [
    {
     "name": "stdout",
     "output_type": "stream",
     "text": [
      "Hiệu suất của mô hình Lasso:\n",
      "Mean Squared Error: 1581446850.1235857\n"
     ]
    }
   ],
   "source": [
    "import pandas as pd\n",
    "from sklearn.linear_model import Lasso\n",
    "from sklearn.metrics import mean_squared_error\n",
    "from sklearn.preprocessing import MinMaxScaler\n",
    "from sklearn.model_selection import train_test_split\n",
    "\n",
    "# Đọc dữ liệu huấn luyện từ file train.csv\n",
    "train_data = pd.read_csv('train.csv')\n",
    "\n",
    "# Xác định các đặc trưng (features) và nhãn (label)\n",
    "features = train_data[['OverallQual', 'GrLivArea', 'GarageCars', 'TotalBsmtSF', 'YearBuilt']].fillna(0)  # Xử lý missing values\n",
    "label = train_data['SalePrice']\n",
    "\n",
    "# Chia dữ liệu thành tập huấn luyện và tập validation\n",
    "X_train, X_val, y_train, y_val = train_test_split(features, label, test_size=0.2, random_state=42)\n",
    "\n",
    "# Chuẩn hóa dữ liệu\n",
    "scaler = MinMaxScaler()\n",
    "X_train_scaled = scaler.fit_transform(X_train)\n",
    "X_val_scaled = scaler.transform(X_val)\n",
    "\n",
    "# Tạo mô hình Lasso\n",
    "model = Lasso()\n",
    "\n",
    "# Huấn luyện mô hình Lasso\n",
    "model.fit(X_train_scaled, y_train)\n",
    "\n",
    "# Dự báo giá trên tập validation với mô hình Lasso\n",
    "y_pred = model.predict(X_val_scaled)\n",
    "\n",
    "# Tính toán Mean Squared Error\n",
    "mse = mean_squared_error(y_val, y_pred)\n",
    "\n",
    "# In kết quả\n",
    "print(\"Hiệu suất của mô hình Lasso:\")\n",
    "print(f\"Mean Squared Error: {mse}\")"
   ]
  },
  {
   "cell_type": "code",
   "execution_count": 10,
   "id": "35e8e305",
   "metadata": {},
   "outputs": [
    {
     "name": "stdout",
     "output_type": "stream",
     "text": [
      "Kết quả tốt nhất:\n",
      "RMSE nhỏ nhất: 39763.72004089199 (Alpha: 0.1)\n",
      "MAE nhỏ nhất: 25414.777304015108 (Alpha: 0.1)\n"
     ]
    }
   ],
   "source": [
    "from sklearn.metrics import mean_squared_error, mean_absolute_error\n",
    "\n",
    "# Danh sách các giá trị alpha để thử\n",
    "alpha_values = [0.1, 0.5, 1.0, 2.0]\n",
    "\n",
    "best_rmse = float('inf')  # Giá trị RMSE nhỏ nhất\n",
    "best_mae = float('inf')  # Giá trị MAE nhỏ nhất\n",
    "best_alpha_rmse = None  # Giá trị alpha tương ứng với RMSE nhỏ nhất\n",
    "best_alpha_mae = None  # Giá trị alpha tương ứng với MAE nhỏ nhất\n",
    "\n",
    "for alpha in alpha_values:\n",
    "    # Tạo mô hình Lasso với giá trị alpha hiện tại\n",
    "    model = Lasso(alpha=alpha)\n",
    "\n",
    "    # Huấn luyện mô hình Lasso\n",
    "    model.fit(X_train_scaled, y_train)\n",
    "\n",
    "    # Dự báo giá trên tập validation với mô hình Lasso\n",
    "    y_pred = model.predict(X_val_scaled)\n",
    "\n",
    "    # Tính toán RMSE và MAE\n",
    "    rmse = np.sqrt(mean_squared_error(y_val, y_pred))\n",
    "    mae = mean_absolute_error(y_val, y_pred)\n",
    "\n",
    "    # Kiểm tra xem RMSE và MAE có nhỏ hơn giá trị tốt nhất hiện tại không\n",
    "    if rmse < best_rmse:\n",
    "        best_rmse = rmse\n",
    "        best_alpha_rmse = alpha\n",
    "\n",
    "    if mae < best_mae:\n",
    "        best_mae = mae\n",
    "        best_alpha_mae = alpha\n",
    "\n",
    "# In kết quả tốt nhất\n",
    "print(\"Kết quả tốt nhất:\")\n",
    "print(f\"RMSE nhỏ nhất: {best_rmse} (Alpha: {best_alpha_rmse})\")\n",
    "print(f\"MAE nhỏ nhất: {best_mae} (Alpha: {best_alpha_mae})\")"
   ]
  },
  {
   "cell_type": "code",
   "execution_count": null,
   "id": "8cb1a13a",
   "metadata": {},
   "outputs": [],
   "source": []
  }
 ],
 "metadata": {
  "kernelspec": {
   "display_name": "Python 3 (ipykernel)",
   "language": "python",
   "name": "python3"
  },
  "language_info": {
   "codemirror_mode": {
    "name": "ipython",
    "version": 3
   },
   "file_extension": ".py",
   "mimetype": "text/x-python",
   "name": "python",
   "nbconvert_exporter": "python",
   "pygments_lexer": "ipython3",
   "version": "3.11.4"
  }
 },
 "nbformat": 4,
 "nbformat_minor": 5
}
